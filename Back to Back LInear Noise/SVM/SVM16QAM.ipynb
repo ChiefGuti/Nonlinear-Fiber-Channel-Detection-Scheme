{
 "cells": [
  {
   "cell_type": "markdown",
   "metadata": {},
   "source": [
    "# 16 QAM DSP ML SVM"
   ]
  },
  {
   "cell_type": "code",
   "execution_count": 27,
   "metadata": {},
   "outputs": [
    {
     "name": "stdout",
     "output_type": "stream",
     "text": [
      "Populating the interactive namespace from numpy and matplotlib\n"
     ]
    }
   ],
   "source": [
    "%pylab inline\n",
    "%matplotlib inline\n",
    "from sklearn.model_selection import train_test_split\n",
    "from sklearn.svm import SVC\n",
    "from sklearn.metrics import classification_report, confusion_matrix\n",
    "from sklearn import datasets\n",
    "from sklearn.model_selection import train_test_split\n",
    "from sklearn.model_selection import GridSearchCV , RandomizedSearchCV\n",
    "from sklearn.metrics import classification_report\n",
    "from scipy import stats"
   ]
  },
  {
   "cell_type": "code",
   "execution_count": 4,
   "metadata": {},
   "outputs": [
    {
     "name": "stdout",
     "output_type": "stream",
     "text": [
      "C:\\Users\\ChiefGuti\\Documents\\Lund University\\Thesis\\MLImplementacion\n"
     ]
    }
   ],
   "source": [
    "cd .."
   ]
  },
  {
   "cell_type": "code",
   "execution_count": 5,
   "metadata": {},
   "outputs": [
    {
     "name": "stdout",
     "output_type": "stream",
     "text": [
      "C:\\Users\\ChiefGuti\\Documents\\Lund University\\Thesis\\MLImplementacion\\QAM4bit\n"
     ]
    }
   ],
   "source": [
    "cd QAM4bit/"
   ]
  },
  {
   "cell_type": "markdown",
   "metadata": {},
   "source": [
    "## Load  Data"
   ]
  },
  {
   "cell_type": "code",
   "execution_count": 6,
   "metadata": {},
   "outputs": [],
   "source": [
    "data = loadtxt('OutRx_DualPol4bOSNR15R2.txt',delimiter=';')\n",
    "Code=loadtxt('PBRSout.txt',skiprows=5)"
   ]
  },
  {
   "cell_type": "markdown",
   "metadata": {},
   "source": [
    "# Functions"
   ]
  },
  {
   "cell_type": "code",
   "execution_count": 7,
   "metadata": {},
   "outputs": [],
   "source": [
    "def NormData(DataSet,data):\n",
    "    for i in range(len(data[:,0])):\n",
    "        DataSet[i,0]=data[:,0][i]\n",
    "        DataSet[i,1]=data[:,1][i]\n",
    "    DataSet[:,0]=DataSet[:,0]/max(DataSet[:,0])\n",
    "    DataSet[:,1]=DataSet[:,1]/max(DataSet[:,1])"
   ]
  },
  {
   "cell_type": "code",
   "execution_count": 8,
   "metadata": {},
   "outputs": [],
   "source": [
    "def ColorMap(Word,Map,M):\n",
    "    Cmap=arange(M)\n",
    "    for i in range(len(Word)):\n",
    "        for j in range(len(Cmap)):\n",
    "            if(Word[i]==Org[j]):\n",
    "                Map[i]=Cmap[j]"
   ]
  },
  {
   "cell_type": "code",
   "execution_count": 9,
   "metadata": {},
   "outputs": [],
   "source": [
    "def BER(x,y):\n",
    "    j=0\n",
    "    for i in range(len(x)):\n",
    "        if(x[i]!=y[i]):\n",
    "            j+=1\n",
    "    return(j/len(x))\n",
    "            "
   ]
  },
  {
   "cell_type": "markdown",
   "metadata": {},
   "source": [
    "## Training data "
   ]
  },
  {
   "cell_type": "code",
   "execution_count": 10,
   "metadata": {},
   "outputs": [
    {
     "data": {
      "text/plain": [
       "<matplotlib.collections.PathCollection at 0x1d0cd76aef0>"
      ]
     },
     "execution_count": 10,
     "metadata": {},
     "output_type": "execute_result"
    },
    {
     "data": {
      "image/png": "[encoded data removed]",
      "text/plain": [
       "<matplotlib.figure.Figure at 0x1d0cb987518>"
      ]
     },
     "metadata": {},
     "output_type": "display_data"
    }
   ],
   "source": [
    "scatter(data[:,0]/max(data[:,0]),data[:,1]/max(data[:,1]),s=1)"
   ]
  },
  {
   "cell_type": "markdown",
   "metadata": {},
   "source": [
    "### Simple splice DSP"
   ]
  },
  {
   "cell_type": "code",
   "execution_count": 11,
   "metadata": {},
   "outputs": [
    {
     "data": {
      "text/plain": [
       "(32768, 4)"
      ]
     },
     "execution_count": 11,
     "metadata": {},
     "output_type": "execute_result"
    }
   ],
   "source": [
    "done=data[1::2][:]\n",
    "shape(done)"
   ]
  },
  {
   "cell_type": "code",
   "execution_count": 12,
   "metadata": {},
   "outputs": [
    {
     "data": {
      "text/plain": [
       "<matplotlib.collections.PathCollection at 0x1d0cba62828>"
      ]
     },
     "execution_count": 12,
     "metadata": {},
     "output_type": "execute_result"
    },
    {
     "data": {
      "image/png": "[encoded data removed]",
      "text/plain": [
       "<matplotlib.figure.Figure at 0x1d0cb987128>"
      ]
     },
     "metadata": {},
     "output_type": "display_data"
    }
   ],
   "source": [
    "data=done\n",
    "scatter(data[:,0]/max(data[:,0]),data[:,1]/max(data[:,1]),s=1)"
   ]
  },
  {
   "cell_type": "markdown",
   "metadata": {},
   "source": [
    "## PBRS reformating"
   ]
  },
  {
   "cell_type": "markdown",
   "metadata": {},
   "source": [
    "### Retrive PBRS creat Classification vector "
   ]
  },
  {
   "cell_type": "code",
   "execution_count": 13,
   "metadata": {},
   "outputs": [],
   "source": [
    "INT=[]\n",
    "for i in range(int(len(Code)/4)):\n",
    "    INT.append(i*4)\n",
    "CodeWord=[]\n",
    "for i in range(len(Code)):\n",
    "    CodeWord.append(str(int(Code[i])))\n",
    "Word=[]\n",
    "for i in INT:\n",
    "    Word.append(CodeWord[i]+CodeWord[i+1]+CodeWord[i+2]+CodeWord[i+3])\n",
    "    \n",
    "vec=array([[0,0,0,0],[0,0,0,1],[0,0,1,0],[0,0,1,1],[0,1,0,0],[0,1,0,1],[0,1,1,0],[0,1,1,1]\n",
    "           ,[1,0,0,0],[1,0,0,1],[1,0,1,0],[1,0,1,1],[1,1,0,0],[1,1,0,1],[1,1,1,0],[1,1,1,1]])   \n",
    "Org=[]\n",
    "for i in range(len(vec)):\n",
    "    Org.append(''.join(str(x) for x in vec[i]))"
   ]
  },
  {
   "cell_type": "code",
   "execution_count": 14,
   "metadata": {},
   "outputs": [],
   "source": [
    "Map=zeros(len(Word))\n",
    "ColorMap(Word,Map,16)"
   ]
  },
  {
   "cell_type": "markdown",
   "metadata": {},
   "source": [
    "## Complete Incoming Data"
   ]
  },
  {
   "cell_type": "code",
   "execution_count": 15,
   "metadata": {},
   "outputs": [],
   "source": [
    "#Normalize IQ data after splice\n",
    "DataSet=zeros((len(data[:,0]),2))\n",
    "NormData(DataSet,data)"
   ]
  },
  {
   "cell_type": "code",
   "execution_count": 16,
   "metadata": {},
   "outputs": [
    {
     "data": {
      "image/png": "[encoded data removed]",
      "text/plain": [
       "<matplotlib.figure.Figure at 0x1d0cbdf7630>"
      ]
     },
     "metadata": {},
     "output_type": "display_data"
    }
   ],
   "source": [
    "scatter(DataSet[:,0],DataSet[:,1],c=Map,s=1)\n",
    "colorbar()\n",
    "grid(True)"
   ]
  },
  {
   "cell_type": "markdown",
   "metadata": {},
   "source": [
    "## ML training SVM"
   ]
  },
  {
   "cell_type": "code",
   "execution_count": 17,
   "metadata": {},
   "outputs": [],
   "source": [
    "X_train, X_test, y_train, y_test = train_test_split(DataSet, Map, test_size = 0.20)"
   ]
  },
  {
   "cell_type": "code",
   "execution_count": 28,
   "metadata": {},
   "outputs": [
    {
     "name": "stdout",
     "output_type": "stream",
     "text": [
      "# Tuning hyper-parameters for precision\n",
      "\n",
      "Best parameters set found on development set:\n",
      "\n",
      "{'C': 1.0414554783389918, 'class_weight': 'balanced', 'kernel': 'rbf', 'gamma': 0.014648777661663668}\n",
      "\n",
      "Grid scores on development set:\n",
      "\n",
      "0.610 (+/-0.005) for {'C': 1.0414554783389918, 'class_weight': 'balanced', 'kernel': 'rbf', 'gamma': 0.014648777661663668}\n",
      "0.610 (+/-0.005) for {'C': 3.3797018466494406, 'class_weight': 'balanced', 'kernel': 'rbf', 'gamma': 0.0026253748324209579}\n",
      "0.579 (+/-0.058) for {'C': 18.831381717415951, 'class_weight': None, 'kernel': 'rbf', 'gamma': 0.0057782309558648791}\n",
      "0.004 (+/-0.000) for {'C': 0.33008375563199971, 'class_weight': None, 'kernel': 'rbf', 'gamma': 0.00021318849452782774}\n",
      "0.579 (+/-0.058) for {'C': 11.332338093131245, 'class_weight': 'balanced', 'kernel': 'rbf', 'gamma': 0.005008019851992178}\n",
      "0.610 (+/-0.005) for {'C': 6.2846683372154857, 'class_weight': None, 'kernel': 'rbf', 'gamma': 0.001991299849056819}\n",
      "0.137 (+/-0.003) for {'C': 1.0031817023794702, 'class_weight': None, 'kernel': 'rbf', 'gamma': 0.0014281839896025583}\n",
      "0.484 (+/-0.029) for {'C': 6.8146398101308456, 'class_weight': None, 'kernel': 'rbf', 'gamma': 0.00073815320060426114}\n",
      "0.493 (+/-0.041) for {'C': 2.2257638064154501, 'class_weight': None, 'kernel': 'rbf', 'gamma': 0.0022402196298816355}\n",
      "0.610 (+/-0.005) for {'C': 9.0714583079081059, 'class_weight': 'balanced', 'kernel': 'rbf', 'gamma': 0.0027958261847676846}\n",
      "0.610 (+/-0.005) for {'C': 5.9190412930561926, 'class_weight': 'balanced', 'kernel': 'rbf', 'gamma': 0.0055916277264889758}\n",
      "0.610 (+/-0.005) for {'C': 9.1800716379758001, 'class_weight': 'balanced', 'kernel': 'rbf', 'gamma': 0.0008042700027730582}\n",
      "0.610 (+/-0.005) for {'C': 7.5995617217882057, 'class_weight': 'balanced', 'kernel': 'rbf', 'gamma': 0.0032183824114152449}\n",
      "0.551 (+/-0.004) for {'C': 13.883766176760233, 'class_weight': 'balanced', 'kernel': 'rbf', 'gamma': 0.013640501598018962}\n",
      "0.551 (+/-0.004) for {'C': 28.8475317607538, 'class_weight': None, 'kernel': 'rbf', 'gamma': 0.0092050093128033111}\n",
      "0.610 (+/-0.005) for {'C': 4.7740246684598056, 'class_weight': 'balanced', 'kernel': 'rbf', 'gamma': 0.0038863668231125148}\n",
      "0.124 (+/-0.003) for {'C': 0.1611926796771834, 'class_weight': None, 'kernel': 'rbf', 'gamma': 0.0060679094394134672}\n",
      "0.610 (+/-0.005) for {'C': 11.814922514000553, 'class_weight': 'balanced', 'kernel': 'rbf', 'gamma': 0.0025365299804361728}\n",
      "0.551 (+/-0.004) for {'C': 33.788760795404698, 'class_weight': 'balanced', 'kernel': 'rbf', 'gamma': 0.012328258316887197}\n",
      "0.610 (+/-0.005) for {'C': 9.4619129030504059, 'class_weight': None, 'kernel': 'rbf', 'gamma': 0.0011127512162529829}\n",
      "\n",
      "Detailed classification report:\n",
      "\n",
      "The model is trained on the full development set.\n",
      "The scores are computed on the full evaluation set.\n",
      "\n",
      "             precision    recall  f1-score   support\n",
      "\n",
      "        0.0       1.00      0.06      0.11       393\n",
      "        1.0       0.61      0.37      0.46       424\n",
      "        2.0       1.00      0.05      0.09       384\n",
      "        3.0       0.56      0.35      0.43       388\n",
      "        4.0       0.54      0.16      0.24       411\n",
      "        5.0       0.33      0.96      0.49       438\n",
      "        6.0       0.55      0.18      0.27       399\n",
      "        7.0       0.33      0.98      0.50       405\n",
      "        8.0       1.00      0.07      0.12       376\n",
      "        9.0       0.50      0.25      0.33       441\n",
      "       10.0       1.00      0.05      0.10       432\n",
      "       11.0       0.49      0.30      0.37       388\n",
      "       12.0       0.61      0.15      0.24       419\n",
      "       13.0       0.31      0.97      0.46       413\n",
      "       14.0       0.65      0.23      0.34       403\n",
      "       15.0       0.34      0.95      0.50       440\n",
      "\n",
      "avg / total       0.61      0.39      0.32      6554\n",
      "\n",
      "\n"
     ]
    }
   ],
   "source": [
    "#### Set the parameters by cross-validation\n",
    "#tuned_parameters = [{'kernel': ['rbf'], 'gamma': [1e-3, 1e-4],\n",
    "#                     'C': [1, 10, 100, 1000]},\n",
    "#                    {'kernel': ['linear'], 'C': [1, 10, 100, 1000]}]\n",
    "\n",
    "tuned_parameters ={'C': stats.expon(scale=10), 'gamma': stats.expon(scale=.01),\n",
    "                   'kernel': ['rbf'], 'class_weight':['balanced', None]}\n",
    "\n",
    "scores = ['precision']#, 'recall']\n",
    "\n",
    "for score in scores:\n",
    "    print(\"# Tuning hyper-parameters for %s\" % score)\n",
    "    print()\n",
    "\n",
    "    clf = RandomizedSearchCV(SVC(), tuned_parameters, cv=4,\n",
    "                       scoring='%s_macro' % score, n_jobs=-1, error_score=0,n_iter=20)\n",
    "    clf.fit(X_train, y_train)\n",
    "\n",
    "    print(\"Best parameters set found on development set:\")\n",
    "    print()\n",
    "    print(clf.best_params_)\n",
    "    print()\n",
    "    print(\"Grid scores on development set:\")\n",
    "    print()\n",
    "    means = clf.cv_results_['mean_test_score']\n",
    "    stds = clf.cv_results_['std_test_score']\n",
    "    for mean, std, params in zip(means, stds, clf.cv_results_['params']):\n",
    "        print(\"%0.3f (+/-%0.03f) for %r\"\n",
    "              % (mean, std * 2, params))\n",
    "    print()\n",
    "\n",
    "    print(\"Detailed classification report:\")\n",
    "    print()\n",
    "    print(\"The model is trained on the full development set.\")\n",
    "    print(\"The scores are computed on the full evaluation set.\")\n",
    "    print()\n",
    "    y_true, y_pred = y_test, clf.predict(X_test)\n",
    "    print(classification_report(y_true, y_pred))\n",
    "    print()\n"
   ]
  },
  {
   "cell_type": "code",
   "execution_count": 101,
   "metadata": {},
   "outputs": [
    {
     "name": "stdout",
     "output_type": "stream",
     "text": [
      "# Tuning hyper-parameters for precision\n",
      "\n",
      "Best parameters set found on development set:\n",
      "\n",
      "{'gamma': 0.001, 'C': 10, 'kernel': 'rbf'}\n",
      "\n",
      "Grid scores on development set:\n",
      "\n",
      "0.133 (+/-0.013) for {'gamma': 0.001, 'C': 1, 'kernel': 'rbf'}\n",
      "0.004 (+/-0.000) for {'gamma': 0.0001, 'C': 1, 'kernel': 'rbf'}\n",
      "0.610 (+/-0.014) for {'gamma': 0.001, 'C': 10, 'kernel': 'rbf'}\n",
      "0.135 (+/-0.008) for {'gamma': 0.0001, 'C': 10, 'kernel': 'rbf'}\n",
      "0.562 (+/-0.044) for {'gamma': 0.001, 'C': 100, 'kernel': 'rbf'}\n",
      "0.610 (+/-0.014) for {'gamma': 0.0001, 'C': 100, 'kernel': 'rbf'}\n",
      "0.537 (+/-0.046) for {'gamma': 0.001, 'C': 1000, 'kernel': 'rbf'}\n",
      "0.562 (+/-0.044) for {'gamma': 0.0001, 'C': 1000, 'kernel': 'rbf'}\n",
      "\n",
      "Detailed classification report:\n",
      "\n",
      "The model is trained on the full development set.\n",
      "The scores are computed on the full evaluation set.\n",
      "\n",
      "             precision    recall  f1-score   support\n",
      "\n",
      "        0.0       1.00      0.04      0.08       408\n",
      "        1.0       0.57      0.34      0.43       415\n",
      "        2.0       1.00      0.06      0.12       399\n",
      "        3.0       0.55      0.34      0.42       374\n",
      "        4.0       0.57      0.17      0.26       425\n",
      "        5.0       0.34      0.95      0.50       465\n",
      "        6.0       0.61      0.22      0.33       419\n",
      "        7.0       0.34      0.98      0.50       415\n",
      "        8.0       1.00      0.06      0.11       405\n",
      "        9.0       0.49      0.25      0.33       385\n",
      "       10.0       1.00      0.05      0.09       426\n",
      "       11.0       0.50      0.28      0.36       444\n",
      "       12.0       0.57      0.17      0.26       384\n",
      "       13.0       0.31      0.97      0.47       394\n",
      "       14.0       0.62      0.22      0.32       393\n",
      "       15.0       0.31      0.97      0.47       403\n",
      "\n",
      "avg / total       0.61      0.38      0.32      6554\n",
      "\n",
      "\n",
      "# Tuning hyper-parameters for recall\n",
      "\n",
      "Best parameters set found on development set:\n",
      "\n",
      "{'gamma': 0.001, 'C': 10, 'kernel': 'rbf'}\n",
      "\n",
      "Grid scores on development set:\n",
      "\n",
      "0.248 (+/-0.013) for {'gamma': 0.001, 'C': 1, 'kernel': 'rbf'}\n",
      "0.062 (+/-0.000) for {'gamma': 0.0001, 'C': 1, 'kernel': 'rbf'}\n",
      "0.379 (+/-0.004) for {'gamma': 0.001, 'C': 10, 'kernel': 'rbf'}\n",
      "0.251 (+/-0.009) for {'gamma': 0.0001, 'C': 10, 'kernel': 'rbf'}\n",
      "0.379 (+/-0.004) for {'gamma': 0.001, 'C': 100, 'kernel': 'rbf'}\n",
      "0.379 (+/-0.004) for {'gamma': 0.0001, 'C': 100, 'kernel': 'rbf'}\n",
      "0.378 (+/-0.003) for {'gamma': 0.001, 'C': 1000, 'kernel': 'rbf'}\n",
      "0.379 (+/-0.004) for {'gamma': 0.0001, 'C': 1000, 'kernel': 'rbf'}\n",
      "\n",
      "Detailed classification report:\n",
      "\n",
      "The model is trained on the full development set.\n",
      "The scores are computed on the full evaluation set.\n",
      "\n",
      "             precision    recall  f1-score   support\n",
      "\n",
      "        0.0       1.00      0.04      0.08       408\n",
      "        1.0       0.57      0.34      0.43       415\n",
      "        2.0       1.00      0.06      0.12       399\n",
      "        3.0       0.55      0.34      0.42       374\n",
      "        4.0       0.57      0.17      0.26       425\n",
      "        5.0       0.34      0.95      0.50       465\n",
      "        6.0       0.61      0.22      0.33       419\n",
      "        7.0       0.34      0.98      0.50       415\n",
      "        8.0       1.00      0.06      0.11       405\n",
      "        9.0       0.49      0.25      0.33       385\n",
      "       10.0       1.00      0.05      0.09       426\n",
      "       11.0       0.50      0.28      0.36       444\n",
      "       12.0       0.57      0.17      0.26       384\n",
      "       13.0       0.31      0.97      0.47       394\n",
      "       14.0       0.62      0.22      0.32       393\n",
      "       15.0       0.31      0.97      0.47       403\n",
      "\n",
      "avg / total       0.61      0.38      0.32      6554\n",
      "\n",
      "\n"
     ]
    }
   ],
   "source": [
    "# Set the parameters by cross-validation\n",
    "tuned_parameters = [{'kernel': ['rbf'], 'gamma': [1e-3, 1e-4],\n",
    "                     'C': [1, 10, 100, 1000]}]\n",
    "\n",
    "scores = ['precision', 'recall']\n",
    "\n",
    "for score in scores:\n",
    "    print(\"# Tuning hyper-parameters for %s\" % score)\n",
    "    print()\n",
    "\n",
    "    clf = GridSearchCV(SVC(), tuned_parameters, cv=5,\n",
    "                       scoring='%s_macro' % score, n_jobs=-1, error_score=0)\n",
    "    clf.fit(X_train, y_train)\n",
    "\n",
    "    print(\"Best parameters set found on development set:\")\n",
    "    print()\n",
    "    print(clf.best_params_)\n",
    "    print()\n",
    "    print(\"Grid scores on development set:\")\n",
    "    print()\n",
    "    means = clf.cv_results_['mean_test_score']\n",
    "    stds = clf.cv_results_['std_test_score']\n",
    "    for mean, std, params in zip(means, stds, clf.cv_results_['params']):\n",
    "        print(\"%0.3f (+/-%0.03f) for %r\"\n",
    "              % (mean, std * 2, params))\n",
    "    print()\n",
    "\n",
    "    print(\"Detailed classification report:\")\n",
    "    print()\n",
    "    print(\"The model is trained on the full development set.\")\n",
    "    print(\"The scores are computed on the full evaluation set.\")\n",
    "    print()\n",
    "    y_true, y_pred = y_test, clf.predict(X_test)\n",
    "    print(classification_report(y_true, y_pred))\n",
    "    print()\n",
    "\n",
    "# Note the problem is too easy: the hyperparameter plateau is too flat and the\n",
    "# output model is the same for precision and recall with ties in quality."
   ]
  },
  {
   "cell_type": "code",
   "execution_count": 95,
   "metadata": {
    "scrolled": true
   },
   "outputs": [
    {
     "data": {
      "text/plain": [
       "SVC(C=1000, cache_size=200, class_weight=None, coef0=0.0,\n",
       "  decision_function_shape='ovr', degree=3, gamma=0.0001, kernel='rbf',\n",
       "  max_iter=-1, probability=False, random_state=None, shrinking=True,\n",
       "  tol=0.001, verbose=False)"
      ]
     },
     "execution_count": 95,
     "metadata": {},
     "output_type": "execute_result"
    }
   ],
   "source": [
    "svclassifier = SVC(kernel='rbf',C=1000,gamma=0.0001)\n",
    "svclassifier.fit(X_train, y_train)"
   ]
  },
  {
   "cell_type": "markdown",
   "metadata": {},
   "source": [
    "### Testing data set"
   ]
  },
  {
   "cell_type": "markdown",
   "metadata": {},
   "source": [
    "dataTest=dataTest[1::2][:]"
   ]
  },
  {
   "cell_type": "markdown",
   "metadata": {},
   "source": [
    "DataSetTest=zeros((len(dataTest[:,0]),2))\n",
    "NormData(DataSetTest,dataTest)"
   ]
  },
  {
   "cell_type": "markdown",
   "metadata": {},
   "source": [
    "CodeWordT=[]\n",
    "for i in range(len(CodeTest)):\n",
    "    CodeWordT.append(str(int(CodeTest[i])))\n",
    "WordT=[]\n",
    "for i in INT:\n",
    "    WordT.append(CodeWordT[i]+CodeWordT[i+1]+CodeWordT[i+2]+CodeWordT[i+3])"
   ]
  },
  {
   "cell_type": "markdown",
   "metadata": {},
   "source": [
    "MapT=zeros(len(WordT))\n",
    "ColorMap(WordT,MapT,16)"
   ]
  },
  {
   "cell_type": "markdown",
   "metadata": {},
   "source": [
    "scatter(dataTest[:,0]/max(dataTest[:,0]),dataTest[:,1]/max(dataTest[:,1]),c=MapT,s=1)\n",
    "colorbar()\n",
    "grid(True)"
   ]
  },
  {
   "cell_type": "markdown",
   "metadata": {},
   "source": [
    "## Predict on data"
   ]
  },
  {
   "cell_type": "code",
   "execution_count": 96,
   "metadata": {},
   "outputs": [],
   "source": [
    "y_prediction= svclassifier.predict(X_test)"
   ]
  },
  {
   "cell_type": "code",
   "execution_count": 97,
   "metadata": {},
   "outputs": [
    {
     "name": "stdout",
     "output_type": "stream",
     "text": [
      "[[ 18 104   0   0  53 233   0   0   0   0   0   0   0   0   0   0]\n",
      " [  0 143   0   3   0 266   0   3   0   0   0   0   0   0   0   0]\n",
      " [  0   0  25 102   0   0  54 218   0   0   0   0   0   0   0   0]\n",
      " [  0   4   0 129   0   7   0 234   0   0   0   0   0   0   0   0]\n",
      " [  0   0   0   0  72 346   0   0   0   0   0   0   2   5   0   0]\n",
      " [  0   0   0   0   0 444   0  12   0   0   0   0   0   9   0   0]\n",
      " [  0   0   0   0   0   0  93 319   0   0   0   0   0   0   4   3]\n",
      " [  0   0   0   0   0   6   0 405   0   0   0   0   0   1   0   3]\n",
      " [  0   0   0   0   0   0   0   0  24  94   0   0  47 240   0   0]\n",
      " [  0   0   0   0   0   0   0   0   0  95   1   0   0 283   0   6]\n",
      " [  0   0   0   0   0   0   0   0   0   0 143   0   0   0  49 234]\n",
      " [  0   0   0   0   0   0   0   0   0   4 125   0   0   4   0 311]\n",
      " [  0   0   0   0   1   5   0   0   0   0   0   0  65 313   0   0]\n",
      " [  0   0   0   0   0   3   0   0   0   0   0   0   0 384   0   7]\n",
      " [  0   0   0   0   0   0   5   7   0   0   0   0   0   0  85 296]\n",
      " [  0   0   0   0   0   0   0   6   0   0   0   0   0   6   0 391]]\n",
      "             precision    recall  f1-score   support\n",
      "\n",
      "        0.0       1.00      0.04      0.08       408\n",
      "        1.0       0.57      0.34      0.43       415\n",
      "        2.0       1.00      0.06      0.12       399\n",
      "        3.0       0.55      0.34      0.42       374\n",
      "        4.0       0.57      0.17      0.26       425\n",
      "        5.0       0.34      0.95      0.50       465\n",
      "        6.0       0.61      0.22      0.33       419\n",
      "        7.0       0.34      0.98      0.50       415\n",
      "        8.0       1.00      0.06      0.11       405\n",
      "        9.0       0.49      0.25      0.33       385\n",
      "       10.0       0.53      0.34      0.41       426\n",
      "       11.0       0.00      0.00      0.00       444\n",
      "       12.0       0.57      0.17      0.26       384\n",
      "       13.0       0.31      0.97      0.47       394\n",
      "       14.0       0.62      0.22      0.32       393\n",
      "       15.0       0.31      0.97      0.47       403\n",
      "\n",
      "avg / total       0.55      0.38      0.31      6554\n",
      "\n"
     ]
    },
    {
     "name": "stderr",
     "output_type": "stream",
     "text": [
      "C:\\Users\\ChiefGuti\\Miniconda3\\lib\\site-packages\\sklearn\\metrics\\classification.py:1135: UndefinedMetricWarning: Precision and F-score are ill-defined and being set to 0.0 in labels with no predicted samples.\n",
      "  'precision', 'predicted', average, warn_for)\n"
     ]
    }
   ],
   "source": [
    "print(confusion_matrix(y_test,y_prediction))\n",
    "print(classification_report(y_test,y_prediction))"
   ]
  },
  {
   "cell_type": "code",
   "execution_count": 98,
   "metadata": {},
   "outputs": [
    {
     "data": {
      "text/plain": [
       "0.6161122978333842"
      ]
     },
     "execution_count": 98,
     "metadata": {},
     "output_type": "execute_result"
    }
   ],
   "source": [
    "BER(y_test,y_prediction)"
   ]
  },
  {
   "cell_type": "code",
   "execution_count": 64,
   "metadata": {},
   "outputs": [
    {
     "data": {
      "image/png": "[encoded data removed]",
      "text/plain": [
       "<matplotlib.figure.Figure at 0x18628eba470>"
      ]
     },
     "metadata": {},
     "output_type": "display_data"
    }
   ],
   "source": [
    "scatter(X_test[:,0],X_test[:,1],c=y_prediction,s=1)\n",
    "colorbar()\n",
    "grid(True)"
   ]
  },
  {
   "cell_type": "code",
   "execution_count": 66,
   "metadata": {},
   "outputs": [
    {
     "data": {
      "text/plain": [
       "0.416961669921875"
      ]
     },
     "execution_count": 66,
     "metadata": {},
     "output_type": "execute_result"
    }
   ],
   "source": [
    "13663/32768"
   ]
  },
  {
   "cell_type": "code",
   "execution_count": null,
   "metadata": {},
   "outputs": [],
   "source": []
  }
 ],
 "metadata": {
  "kernelspec": {
   "display_name": "Python 3",
   "language": "python",
   "name": "python3"
  },
  "language_info": {
   "codemirror_mode": {
    "name": "ipython",
    "version": 3
   },
   "file_extension": ".py",
   "mimetype": "text/x-python",
   "name": "python",
   "nbconvert_exporter": "python",
   "pygments_lexer": "ipython3",
   "version": "3.5.4"
  }
 },
 "nbformat": 4,
 "nbformat_minor": 4
}
