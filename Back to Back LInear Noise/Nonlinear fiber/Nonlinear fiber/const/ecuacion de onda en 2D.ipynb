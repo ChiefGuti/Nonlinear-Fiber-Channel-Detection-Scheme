{
 "cells": [
  {
   "cell_type": "code",
   "execution_count": 1,
   "metadata": {},
   "outputs": [
    {
     "name": "stdout",
     "output_type": "stream",
     "text": [
      "Populating the interactive namespace from numpy and matplotlib\n"
     ]
    }
   ],
   "source": [
    "%matplotlib inline\n",
    "%pylab inline\n",
    "import os"
   ]
  },
  {
   "cell_type": "code",
   "execution_count": 16,
   "metadata": {},
   "outputs": [],
   "source": [
    "t=120\n",
    "lx=ly=100\n",
    "u=zeros((lx,ly))\n",
    "u_new=zeros((lx,ly))"
   ]
  },
  {
   "cell_type": "code",
   "execution_count": 17,
   "metadata": {},
   "outputs": [],
   "source": [
    "for i in range(lx):\n",
    "    for j in range(ly):\n",
    "        if((i==0) or (j==0) or (i==lx-1) or (j==ly-1) or (i==int(2/3*lx)) ):\n",
    "            if((j>int(lx*3/7)) and (j<=int(lx*4/7)) and (i==int(2/3*lx))):\n",
    "                u[i,j]=u[i,j]\n",
    "            else:\n",
    "                u[i,j]=0\n",
    "        if (i==int(lx*1/3) and j==int(ly/2)):\n",
    "            u[i,j]=-0.5"
   ]
  },
  {
   "cell_type": "markdown",
   "metadata": {},
   "source": [
    "funcion recurente usando la definicion de las dipositivas pg.31"
   ]
  },
  {
   "cell_type": "code",
   "execution_count": 18,
   "metadata": {},
   "outputs": [],
   "source": [
    "def rec(u_l_i_j,u_lm1_i_j,u_l_ip1_j,u_l_im1_j,u_l_i_jp1,u_l_i_jm1,c):\n",
    "    return 2*u_l_i_j-u_lm1_i_j+c**2*(u_l_ip1_j+u_l_im1_j+u_l_i_jp1+u_l_i_jm1-4*u_l_i_j)"
   ]
  },
  {
   "cell_type": "markdown",
   "metadata": {},
   "source": [
    "Si tomamos $u^{1}=u^{-1}$ de la ecuacion del paper tenemo que"
   ]
  },
  {
   "cell_type": "code",
   "execution_count": 19,
   "metadata": {
    "collapsed": true,
    "jupyter": {
     "outputs_hidden": true
    }
   },
   "outputs": [],
   "source": [
    "def u1(u_0_i_j,u_0_ip1_j,u_0_im1_j,u_0_i_jp1,u_0_i_jm1,c):\n",
    "    return u_0_i_j+0.5*c**2*(u_0_ip1_j+u_0_im1_j+u_0_i_jp1+u_0_i_jm1-4*u_0_i_j)"
   ]
  },
  {
   "cell_type": "code",
   "execution_count": 20,
   "metadata": {},
   "outputs": [],
   "source": [
    "u_1 = u.copy()"
   ]
  },
  {
   "cell_type": "markdown",
   "metadata": {},
   "source": [
    "La evolucion un momento despues $u^{1}$"
   ]
  },
  {
   "cell_type": "code",
   "execution_count": 21,
   "metadata": {},
   "outputs": [],
   "source": [
    "c=0.5\n",
    "for i in range(lx):\n",
    "    for j in range(ly):\n",
    "        if((i==0) or (j==0) or (i==lx-1) or (j==ly-1) or (i==int(2/3*lx)) ):\n",
    "            if((j>int(lx*3/7)) and (j<=int(lx*4/7)) and (i==int(2/3*lx))):\n",
    "                u_1[i,j]=u1(u[i,j],u[i+1,j],u[i-1,j],u[i,j+1],u[i,j-1],c)\n",
    "            else:\n",
    "                u_1[i,j]=0\n",
    "        else:\n",
    "             u_1[i,j]=u1(u[i,j],u[i+1,j],u[i-1,j],u[i,j+1],u[i,j-1],c)"
   ]
  },
  {
   "cell_type": "code",
   "execution_count": 22,
   "metadata": {},
   "outputs": [],
   "source": [
    "n=2\n",
    "u_lp1=zeros((lx,ly))\n",
    "u_lm1=u.copy()\n",
    "u_l=u_1.copy()\n",
    "while(n<=t):\n",
    "    for i in range(lx-1):\n",
    "        for j in range(ly-1):\n",
    "            if((i==0) or (j==0) or (i==lx-1) or (j==ly-1) or (i==int(2/3*lx)) ):\n",
    "                if((j>int(lx*3/7)) and (j<=int(lx*4/7)) and (i==int(2/3*lx))):\n",
    "                    u_lp1[i,j]=rec(u_l[i,j],u_lm1[i,j],u_l[i+1,j],u_l[i-1,j],u_l[i,j+1],u_l[i,j-1],c)\n",
    "                else:\n",
    "                    u_lp1[i,j]=0\n",
    "            else:\n",
    "                u_lp1[i,j]=rec(u_l[i,j],u_lm1[i,j],u_l[i+1,j],u_l[i-1,j],u_l[i,j+1],u_l[i,j-1],c)\n",
    "    u_lm1=u_l.copy()\n",
    "    u_l=u_lp1.copy()\n",
    "    if (n==int(t*1/5) or n==int(t*2/5)  or n==int(t*3/5)  or n==int(t*4/5)  or n==int(t*5/5)):\n",
    "        imshow(u_lp1)\n",
    "        colorbar()\n",
    "        savefig('fig%s.png'%(n),format='png')\n",
    "        close()\n",
    "    n+=1"
   ]
  },
  {
   "cell_type": "code",
   "execution_count": 15,
   "metadata": {},
   "outputs": [
    {
     "data": {
      "text/plain": [
       "4"
      ]
     },
     "execution_count": 15,
     "metadata": {},
     "output_type": "execute_result"
    }
   ],
   "source": [
    "os.system('convert -delay 60 loop -1 $(ls -v fig*.png) onda.gif')"
   ]
  },
  {
   "cell_type": "code",
   "execution_count": null,
   "metadata": {
    "collapsed": true,
    "jupyter": {
     "outputs_hidden": true
    }
   },
   "outputs": [],
   "source": []
  }
 ],
 "metadata": {
  "kernelspec": {
   "display_name": "Python 3",
   "language": "python",
   "name": "python3"
  },
  "language_info": {
   "codemirror_mode": {
    "name": "ipython",
    "version": 3
   },
   "file_extension": ".py",
   "mimetype": "text/x-python",
   "name": "python",
   "nbconvert_exporter": "python",
   "pygments_lexer": "ipython3",
   "version": "3.7.4"
  }
 },
 "nbformat": 4,
 "nbformat_minor": 4
}
