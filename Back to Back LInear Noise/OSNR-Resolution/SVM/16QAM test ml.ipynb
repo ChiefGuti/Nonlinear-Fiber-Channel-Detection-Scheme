{
 "cells": [
  {
   "cell_type": "code",
   "execution_count": 38,
   "metadata": {},
   "outputs": [
    {
     "name": "stdout",
     "output_type": "stream",
     "text": [
      "Populating the interactive namespace from numpy and matplotlib\n"
     ]
    }
   ],
   "source": [
    "%matplotib inline\n",
    "%pylab inline\n",
    "from sklearn.model_selection import train_test_split , RandomizedSearchCV\n",
    "from sklearn.svm import SVC\n",
    "from sklearn.metrics import classification_report, confusion_matrix\n",
    "from matplotlib.colors import LogNorm\n",
    "from sklearn.datasets import make_gaussian_quantiles\n",
    "from sklearn.ensemble import AdaBoostClassifier , RandomForestClassifier\n",
    "from sklearn.metrics import accuracy_score\n",
    "from sklearn.tree import DecisionTreeClassifier"
   ]
  },
  {
   "cell_type": "code",
   "execution_count": 2,
   "metadata": {},
   "outputs": [
    {
     "name": "stdout",
     "output_type": "stream",
     "text": [
      "C:\\Users\\ChiefGuti\\Documents\\Lund University\\Thesis\\MLImplementacion\n"
     ]
    }
   ],
   "source": [
    "cd .."
   ]
  },
  {
   "cell_type": "code",
   "execution_count": 3,
   "metadata": {},
   "outputs": [
    {
     "name": "stdout",
     "output_type": "stream",
     "text": [
      "C:\\Users\\ChiefGuti\\Documents\\Lund University\\Thesis\\MLImplementacion\\QAM4bit\n"
     ]
    }
   ],
   "source": [
    "cd QAM4bit/"
   ]
  },
  {
   "cell_type": "code",
   "execution_count": 4,
   "metadata": {},
   "outputs": [],
   "source": [
    "def BER(x,y):\n",
    "    j=0\n",
    "    for i in range(len(x)):\n",
    "        if(x[i]!=y[i]):\n",
    "            j+=1\n",
    "    return(j/len(x))\n",
    "def ColorMap(Word,Map,M):\n",
    "    Cmap=arange(M)\n",
    "    for i in range(len(Word)):\n",
    "        for j in range(len(Cmap)):\n",
    "            if(Word[i]==Org[j]):\n",
    "                Map[i]=Cmap[j]\n",
    "def NormData(DataSet,data):\n",
    "    for i in range(len(data[:,0])):\n",
    "        DataSet[i,0]=data[:,0][i]\n",
    "        DataSet[i,1]=data[:,1][i]\n",
    "    DataSet[:,0]=DataSet[:,0]/max(DataSet[:,0])\n",
    "    DataSet[:,1]=DataSet[:,1]/max(DataSet[:,1])"
   ]
  },
  {
   "cell_type": "code",
   "execution_count": 5,
   "metadata": {},
   "outputs": [],
   "source": [
    "Code=loadtxt('PBRSout.txt',skiprows=5)"
   ]
  },
  {
   "cell_type": "code",
   "execution_count": 6,
   "metadata": {},
   "outputs": [],
   "source": [
    "INT=[]\n",
    "for i in range(int(len(Code)/4)):\n",
    "    INT.append(i*4)\n",
    "CodeWord=[]\n",
    "for i in range(len(Code)):\n",
    "    CodeWord.append(str(int(Code[i])))\n",
    "\n",
    "Word=[]\n",
    "Org=[]\n",
    "j=0\n",
    "for i in INT:\n",
    "    Word.append(CodeWord[i]+CodeWord[i+1]+CodeWord[i+2]+CodeWord[i+3])\n",
    "    \n",
    "    if((Word[j] in Org)==False ):\n",
    "        Org.append(Word[j])\n",
    "    j=j+1\n",
    "Map=zeros(len(Word))\n",
    "ColorMap(Word,Map,16)"
   ]
  },
  {
   "cell_type": "code",
   "execution_count": 7,
   "metadata": {},
   "outputs": [],
   "source": [
    "R=[3,4,5,6,8]\n",
    "OSNR=[15,17,19,20,22,24,25]"
   ]
  },
  {
   "cell_type": "code",
   "execution_count": 8,
   "metadata": {},
   "outputs": [],
   "source": [
    "data = loadtxt('OutRx_DualPol4bOSNR15R2.txt',delimiter=';')\n",
    "data=data[1::2][:]\n",
    "DataSet=zeros((len(data[:,0]),2))\n",
    "NormData(DataSet,data)"
   ]
  },
  {
   "cell_type": "code",
   "execution_count": 9,
   "metadata": {},
   "outputs": [],
   "source": [
    "X_train, X_test, y_train, y_test = train_test_split(DataSet, Map, test_size = 0.20)\n"
   ]
  },
  {
   "cell_type": "code",
   "execution_count": 28,
   "metadata": {},
   "outputs": [
    {
     "data": {
      "text/plain": [
       "RandomForestClassifier(bootstrap=True, class_weight=None, criterion='gini',\n",
       "            max_depth=2, max_features='auto', max_leaf_nodes=None,\n",
       "            min_impurity_decrease=0.0, min_impurity_split=None,\n",
       "            min_samples_leaf=1, min_samples_split=2,\n",
       "            min_weight_fraction_leaf=0.0, n_estimators=100, n_jobs=1,\n",
       "            oob_score=False, random_state=0, verbose=0, warm_start=False)"
      ]
     },
     "execution_count": 28,
     "metadata": {},
     "output_type": "execute_result"
    }
   ],
   "source": [
    "dt = RandomForestClassifier(n_estimators=100, max_depth=2,random_state=0)\n",
    "dt.fit(X_train, y_train)\n",
    " "
   ]
  },
  {
   "cell_type": "code",
   "execution_count": 41,
   "metadata": {},
   "outputs": [
    {
     "name": "stderr",
     "output_type": "stream",
     "text": [
      "C:\\Users\\ChiefGuti\\Miniconda3\\lib\\site-packages\\sklearn\\cross_validation.py:41: DeprecationWarning: This module was deprecated in version 0.18 in favor of the model_selection module into which all the refactored classes and functions are moved. Also note that the interface of the new CV iterators are different from that of this module. This module will be removed in 0.20.\n",
      "  \"This module will be removed in 0.20.\", DeprecationWarning)\n",
      "C:\\Users\\ChiefGuti\\Miniconda3\\lib\\site-packages\\sklearn\\grid_search.py:42: DeprecationWarning: This module was deprecated in version 0.18 in favor of the model_selection module into which all the refactored classes and functions are moved. This module will be removed in 0.20.\n",
      "  DeprecationWarning)\n"
     ]
    }
   ],
   "source": [
    "from sklearn.tree import DecisionTreeClassifier\n",
    "from sklearn.ensemble import AdaBoostClassifier\n",
    "from sklearn.grid_search import GridSearchCV\n",
    "\n",
    "param_grid = {\"base_estimator__criterion\" : [\"gini\", \"entropy\"],\n",
    "              \"base_estimator__splitter\" :   [\"best\", \"random\"],\n",
    "              \"n_estimators\": [1, 2]\n",
    "             }\n",
    "\n",
    "\n",
    "DTC = DecisionTreeClassifier(random_state = 11, max_features = \"auto\", class_weight = \"auto\",max_depth = None)\n",
    "\n",
    "ABC = AdaBoostClassifier(base_estimator = DTC)\n",
    "\n",
    "# run grid search\n",
    "grid_search_ABC = GridSearchCV(ABC, param_grid=param_grid, scoring = 'roc_auc')"
   ]
  },
  {
   "cell_type": "code",
   "execution_count": 43,
   "metadata": {},
   "outputs": [
    {
     "data": {
      "text/plain": [
       "AdaBoostClassifier(algorithm='SAMME.R',\n",
       "          base_estimator=DecisionTreeClassifier(class_weight='balanced', criterion='gini',\n",
       "            max_depth=None, max_features='auto', max_leaf_nodes=None,\n",
       "            min_impurity_decrease=0.0, min_impurity_split=None,\n",
       "            min_samples_leaf=1, min_samples_split=2,\n",
       "            min_weight_fraction_leaf=0.0, presort=False, random_state=11,\n",
       "            splitter='best'),\n",
       "          learning_rate=1.0, n_estimators=50, random_state=None)"
      ]
     },
     "execution_count": 43,
     "metadata": {},
     "output_type": "execute_result"
    }
   ],
   "source": [
    "DTC = DecisionTreeClassifier(random_state = 11, max_features = \"auto\", class_weight = \"balanced\",max_depth = None)\n",
    "dt = AdaBoostClassifier(base_estimator=DTC,learning_rate=)\n",
    "dt.fit(X_train, y_train)\n",
    " "
   ]
  },
  {
   "cell_type": "code",
   "execution_count": 44,
   "metadata": {},
   "outputs": [],
   "source": [
    "y_prediction=dt.predict(X_test)"
   ]
  },
  {
   "cell_type": "code",
   "execution_count": 45,
   "metadata": {},
   "outputs": [
    {
     "name": "stdout",
     "output_type": "stream",
     "text": [
      "[[140   1   0   0   0 263   0   0   0   0   0   0   6   0   0   0]\n",
      " [  4 134   0   0   0   2   0   0   0   0   0   0 248   0   0   0]\n",
      " [  0   0 123   0   0   0   0   0   0   2   0   0   0   0   2 304]\n",
      " [  0   0   0  74   0   0   0   1   0   0   0   0 341   0   4   0]\n",
      " [  0   0   2   0   0   0   0   0   0 116   0   0   0   0 271   3]\n",
      " [  0   0   0   0   0 391   0   0   0   0   0   0   7   0   0   7]\n",
      " [  0   0 131   0   0   0  28   0   0   0   0  53   0   0   0 215]\n",
      " [  0   0   0   1   0   0   0  58   0   0   0   0   2   0 348   0]\n",
      " [111   0   0   0   0 235   0   0  15   0   0   0   0  43   0   0]\n",
      " [  0   0   0   0   0   0   0  54   0 135   0   0   0   0 216   0]\n",
      " [  0 119   0  38   0   0   0   0   0   0  23   0 239   0   0   0]\n",
      " [  0   0   0   0   0   8   0   0   0   0   0  80   0   3   0 311]\n",
      " [  0   0   0   0   0  16   0   0   0   0   0   0 386   0   7   0]\n",
      " [  0   0   0   0   0 307   0   0   0   0   0   2   0  82   0   4]\n",
      " [  0   0   0   0   0   0   0   0   0   0   0   0   4   0 388   8]\n",
      " [  0   0   0   0   0  16   0   0   0   0   0   0   1   0  10 411]]\n",
      "             precision    recall  f1-score   support\n",
      "\n",
      "        0.0       0.55      0.34      0.42       410\n",
      "        1.0       0.53      0.35      0.42       388\n",
      "        2.0       0.48      0.29      0.36       431\n",
      "        3.0       0.65      0.18      0.28       420\n",
      "        4.0       0.00      0.00      0.00       392\n",
      "        5.0       0.32      0.97      0.48       405\n",
      "        6.0       1.00      0.07      0.12       427\n",
      "        7.0       0.51      0.14      0.22       409\n",
      "        8.0       1.00      0.04      0.07       404\n",
      "        9.0       0.53      0.33      0.41       405\n",
      "       10.0       1.00      0.05      0.10       419\n",
      "       11.0       0.59      0.20      0.30       402\n",
      "       12.0       0.31      0.94      0.47       409\n",
      "       13.0       0.64      0.21      0.31       395\n",
      "       14.0       0.31      0.97      0.47       400\n",
      "       15.0       0.33      0.94      0.48       438\n",
      "\n",
      "avg / total       0.55      0.38      0.31      6554\n",
      "\n"
     ]
    },
    {
     "name": "stderr",
     "output_type": "stream",
     "text": [
      "C:\\Users\\ChiefGuti\\Miniconda3\\lib\\site-packages\\sklearn\\metrics\\classification.py:1135: UndefinedMetricWarning: Precision and F-score are ill-defined and being set to 0.0 in labels with no predicted samples.\n",
      "  'precision', 'predicted', average, warn_for)\n"
     ]
    }
   ],
   "source": [
    "print(confusion_matrix(y_test,y_prediction))\n",
    "print(classification_report(y_test,y_prediction))"
   ]
  },
  {
   "cell_type": "code",
   "execution_count": 46,
   "metadata": {},
   "outputs": [
    {
     "data": {
      "text/plain": [
       "0.6234360695758315"
      ]
     },
     "execution_count": 46,
     "metadata": {},
     "output_type": "execute_result"
    }
   ],
   "source": [
    "BER(y_test,y_prediction)"
   ]
  },
  {
   "cell_type": "code",
   "execution_count": null,
   "metadata": {},
   "outputs": [],
   "source": []
  }
 ],
 "metadata": {
  "kernelspec": {
   "display_name": "Python 3",
   "language": "python",
   "name": "python3"
  },
  "language_info": {
   "codemirror_mode": {
    "name": "ipython",
    "version": 3
   },
   "file_extension": ".py",
   "mimetype": "text/x-python",
   "name": "python",
   "nbconvert_exporter": "python",
   "pygments_lexer": "ipython3",
   "version": "3.5.4"
  }
 },
 "nbformat": 4,
 "nbformat_minor": 4
}
