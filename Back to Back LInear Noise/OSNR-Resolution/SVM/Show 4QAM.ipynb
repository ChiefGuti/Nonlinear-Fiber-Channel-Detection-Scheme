{
 "cells": [
  {
   "cell_type": "code",
   "execution_count": 1,
   "metadata": {
    "scrolled": true
   },
   "outputs": [
    {
     "name": "stdout",
     "output_type": "stream",
     "text": [
      "Populating the interactive namespace from numpy and matplotlib\n"
     ]
    }
   ],
   "source": [
    "%matplotib inline\n",
    "%pylab inline\n",
    "from sklearn.model_selection import train_test_split\n",
    "from sklearn.svm import SVC\n",
    "from sklearn.metrics import classification_report, confusion_matrix\n",
    "from matplotlib.colors import LogNorm"
   ]
  },
  {
   "cell_type": "code",
   "execution_count": 2,
   "metadata": {},
   "outputs": [
    {
     "name": "stdout",
     "output_type": "stream",
     "text": [
      "C:\\Users\\ChiefGuti\\Documents\\Lund University\\Thesis\\MLImplementacion\n"
     ]
    }
   ],
   "source": [
    "cd .."
   ]
  },
  {
   "cell_type": "code",
   "execution_count": 3,
   "metadata": {},
   "outputs": [
    {
     "name": "stdout",
     "output_type": "stream",
     "text": [
      "C:\\Users\\ChiefGuti\\Documents\\Lund University\\Thesis\\MLImplementacion\\QAM2bit\n"
     ]
    }
   ],
   "source": [
    "cd QAM2bit/"
   ]
  },
  {
   "cell_type": "code",
   "execution_count": 4,
   "metadata": {},
   "outputs": [],
   "source": [
    "def BER(x,y):\n",
    "    j=0\n",
    "    for i in range(len(x)):\n",
    "        if(x[i]!=y[i]):\n",
    "            j+=1\n",
    "    return(j/len(x))\n",
    "def NormData(DataSet,data):\n",
    "    for i in range(len(data[:,0])):\n",
    "        DataSet[i,0]=data[:,0][i]\n",
    "        DataSet[i,1]=data[:,1][i]\n",
    "    DataSet[:,0]=DataSet[:,0]/max(DataSet[:,0])\n",
    "    DataSet[:,1]=DataSet[:,1]/max(DataSet[:,1])"
   ]
  },
  {
   "cell_type": "code",
   "execution_count": 5,
   "metadata": {},
   "outputs": [],
   "source": [
    "R=[2,3,4,5,6,8]\n",
    "OSNR=[5,9,11,13,15,17]"
   ]
  },
  {
   "cell_type": "code",
   "execution_count": 6,
   "metadata": {},
   "outputs": [],
   "source": [
    "BERreal=[]\n",
    "for i in OSNR:    \n",
    "    berreal=[]\n",
    "    with open('BERdata2b%iOSNR.txt'%i) as f:   \n",
    "        for line in f:\n",
    "            if 'SER_MC:' in line:\n",
    "                berreal.append(line)\n",
    "    BER1=[]            \n",
    "    for i in berreal:\n",
    "        BER1.append(float(i.split()[1]))\n",
    "    BERreal.append(BER1[0::2])"
   ]
  },
  {
   "cell_type": "code",
   "execution_count": 7,
   "metadata": {},
   "outputs": [],
   "source": [
    "Code=loadtxt('PBRSout.txt',skiprows=5)\n",
    "\n",
    "CodeWord=[]\n",
    "for i in range(len(Code)):\n",
    "    CodeWord.append(str(int(Code[i])))\n",
    "    \n",
    "j=0\n",
    "CodeE=[]\n",
    "CodeO=[]\n",
    "Word=[]\n",
    "for i in range(len(CodeWord)):\n",
    "    if (j==0):\n",
    "        CodeE.append(CodeWord[i])\n",
    "        j=1\n",
    "    else:\n",
    "        CodeO.append(CodeWord[i])\n",
    "        j=0\n",
    "        \n",
    "for i in range(len(CodeE)):\n",
    "    Word.append(CodeE[i]+CodeO[i])\n",
    "Org=['00','01','10','11']\n",
    "Cmap=[0,1,2,3]\n",
    "Map=zeros(len(Word))\n",
    "for i in range(len(Word)):\n",
    "    if(Word[i]==Org[0]):\n",
    "        Map[i]=Cmap[0]\n",
    "    if(Word[i]==Org[1]):\n",
    "        Map[i]=Cmap[1]\n",
    "    if(Word[i]==Org[2]):\n",
    "        Map[i]=Cmap[2]\n",
    "    if(Word[i]==Org[3]):\n",
    "        Map[i]=Cmap[3]"
   ]
  },
  {
   "cell_type": "code",
   "execution_count": 8,
   "metadata": {},
   "outputs": [],
   "source": [
    "ber=zeros((len(R),len(OSNR)))\n",
    "for r in range(len(R)):\n",
    "    for osnr in range(len(OSNR)):\n",
    "        data = loadtxt('OutRx_DualPol2bOSNR%iR%i.txt'%(OSNR[osnr],R[r]),delimiter=';')\n",
    "        data=data[1::2][:]\n",
    "        DataSet=zeros((len(data),2))\n",
    "        NormData(DataSet,data)\n",
    "        X_train, X_test, y_train, y_test = train_test_split(DataSet, Map, test_size = 0.20)\n",
    "        svclassifier = SVC(kernel='rbf',C=1,gamma=0.001)\n",
    "        svclassifier.fit(X_train, y_train)\n",
    "        y_pred = svclassifier.predict(X_test)\n",
    "        ber[r,osnr]=BER(y_test,y_pred)\n",
    "        #print(confusion_matrix(y_test,y_pred))\n",
    "        #print(classification_report(y_test,y_pred))"
   ]
  },
  {
   "cell_type": "code",
   "execution_count": 10,
   "metadata": {},
   "outputs": [
    {
     "data": {
      "image/png": "[encoded data removed]",
      "text/plain": [
       "<matplotlib.figure.Figure at 0x175d0b0fac8>"
      ]
     },
     "metadata": {},
     "output_type": "display_data"
    }
   ],
   "source": [
    "from mpl_toolkits.axes_grid1 import make_axes_locatable\n",
    "fig,ax=subplots(1,2,figsize=(12,6))\n",
    "im1 = ax[0].imshow(ber,norm=LogNorm(vmin=0.00001,vmax=0.6))\n",
    "ax[0].set_yticklabels((0,2,3,4,5,6,8))\n",
    "ax[0].set_xticklabels((0,5,9,11,13,15,17))\n",
    "ax[0].set_ylabel('Resolution')\n",
    "ax[0].set_title('BER SVM for 4QAM')\n",
    "ax[0].set_xlabel('OSNR')\n",
    "divider = make_axes_locatable(ax[0])\n",
    "cax1 = divider.append_axes(\"right\", size=\"5%\", pad=0.05)\n",
    "fig.colorbar(im1, cax=cax1)\n",
    "\n",
    "im2 = ax[1].imshow(transpose(BERreal),norm=LogNorm(vmin=0.00001,vmax=0.6))\n",
    "ax[1].set_yticklabels((0,2,3,4,5,6,8))\n",
    "ax[1].set_xticklabels((0,5,9,11,13,15,17))\n",
    "divider = make_axes_locatable(ax[1])\n",
    "cax2 = divider.append_axes(\"right\", size=\"5%\", pad=0.05)\n",
    "fig.colorbar(im2, cax=cax2)\n",
    "ax[1].set_ylabel('Resolution')\n",
    "ax[1].set_title('BER Mesh for 4QAM')\n",
    "ax[1].set_xlabel('OSNR')\n",
    "savefig('BER4QAM.png')"
   ]
  },
  {
   "cell_type": "code",
   "execution_count": 15,
   "metadata": {},
   "outputs": [
    {
     "data": {
      "image/png": "[encoded data removed]",
      "text/plain": [
       "<matplotlib.figure.Figure at 0x25e87231550>"
      ]
     },
     "metadata": {},
     "output_type": "display_data"
    }
   ],
   "source": [
    "for r in range(len(R)):\n",
    "    semilogy(OSNR,ber[r,:],label=R[r])\n",
    "    grid(True,which='both')\n",
    "    legend()\n",
    "    ylim(0,1)\n",
    "    ylabel('BER')\n",
    "    xlabel('OSNR')\n",
    "title('4QAM')\n",
    "savefig('4QAMplot.png')"
   ]
  },
  {
   "cell_type": "code",
   "execution_count": null,
   "metadata": {},
   "outputs": [],
   "source": []
  }
 ],
 "metadata": {
  "kernelspec": {
   "display_name": "Python 3",
   "language": "python",
   "name": "python3"
  },
  "language_info": {
   "codemirror_mode": {
    "name": "ipython",
    "version": 3
   },
   "file_extension": ".py",
   "mimetype": "text/x-python",
   "name": "python",
   "nbconvert_exporter": "python",
   "pygments_lexer": "ipython3",
   "version": "3.5.4"
  }
 },
 "nbformat": 4,
 "nbformat_minor": 4
}
