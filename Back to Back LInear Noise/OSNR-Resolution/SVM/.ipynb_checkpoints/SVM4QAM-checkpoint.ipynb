{
 "cells": [
  {
   "cell_type": "code",
   "execution_count": 1,
   "metadata": {},
   "outputs": [
    {
     "name": "stdout",
     "output_type": "stream",
     "text": [
      "Populating the interactive namespace from numpy and matplotlib\n"
     ]
    }
   ],
   "source": [
    "%pylab inline\n",
    "%matplotlib inline"
   ]
  },
  {
   "cell_type": "code",
   "execution_count": 14,
   "metadata": {},
   "outputs": [],
   "source": [
    "from sklearn.model_selection import train_test_split\n",
    "from sklearn.svm import SVC\n",
    "from sklearn.metrics import classification_report, confusion_matrix\n",
    "from sklearn import datasets\n",
    "from sklearn.model_selection import train_test_split\n",
    "from sklearn.model_selection import GridSearchCV\n",
    "from sklearn.metrics import classification_report"
   ]
  },
  {
   "cell_type": "code",
   "execution_count": 2,
   "metadata": {},
   "outputs": [],
   "source": [
    "def BER(x,y):\n",
    "    j=0\n",
    "    for i in range(len(x)):\n",
    "        if(x[i]!=y[i]):\n",
    "            j+=1\n",
    "    return(j/len(x))"
   ]
  },
  {
   "cell_type": "code",
   "execution_count": 3,
   "metadata": {},
   "outputs": [],
   "source": [
    "def NormData(DataSet,data):\n",
    "    for i in range(len(data[:,0])):\n",
    "        DataSet[i,0]=data[:,0][i]\n",
    "        DataSet[i,1]=data[:,1][i]\n",
    "    DataSet[:,0]=DataSet[:,0]/max(DataSet[:,0])\n",
    "    DataSet[:,1]=DataSet[:,1]/max(DataSet[:,1])"
   ]
  },
  {
   "cell_type": "code",
   "execution_count": 4,
   "metadata": {},
   "outputs": [
    {
     "name": "stdout",
     "output_type": "stream",
     "text": [
      "C:\\Users\\ChiefGuti\\Documents\\Lund University\\Thesis\\MLImplementacion\\QAM2bit\n"
     ]
    }
   ],
   "source": [
    "cd QAM2bit/"
   ]
  },
  {
   "cell_type": "code",
   "execution_count": 21,
   "metadata": {},
   "outputs": [],
   "source": [
    "data = loadtxt('OutRx_DualPol2bOSNR9R4.txt',delimiter=';')\n",
    "Code=loadtxt('PBRSout.txt',skiprows=5)"
   ]
  },
  {
   "cell_type": "code",
   "execution_count": 22,
   "metadata": {},
   "outputs": [
    {
     "data": {
      "text/plain": [
       "<matplotlib.collections.PathCollection at 0x25c875c60f0>"
      ]
     },
     "execution_count": 22,
     "metadata": {},
     "output_type": "execute_result"
    },
    {
     "data": {
      "image/png": "[encoded data removed]",
      "text/plain": [
       "<matplotlib.figure.Figure at 0x25c87549438>"
      ]
     },
     "metadata": {},
     "output_type": "display_data"
    }
   ],
   "source": [
    "scatter(data[:,0]/max(data[:,0]),data[:,1]/max(data[:,1]),s=1)"
   ]
  },
  {
   "cell_type": "code",
   "execution_count": 23,
   "metadata": {},
   "outputs": [
    {
     "data": {
      "text/plain": [
       "(32768, 4)"
      ]
     },
     "execution_count": 23,
     "metadata": {},
     "output_type": "execute_result"
    }
   ],
   "source": [
    "done=data[1::2][:]\n",
    "shape(done)"
   ]
  },
  {
   "cell_type": "code",
   "execution_count": 24,
   "metadata": {},
   "outputs": [
    {
     "data": {
      "text/plain": [
       "<matplotlib.collections.PathCollection at 0x25c867f0d30>"
      ]
     },
     "execution_count": 24,
     "metadata": {},
     "output_type": "execute_result"
    },
    {
     "data": {
      "image/png": "[encoded data removed]",
      "text/plain": [
       "<matplotlib.figure.Figure at 0x25c87520550>"
      ]
     },
     "metadata": {},
     "output_type": "display_data"
    }
   ],
   "source": [
    "data=done\n",
    "scatter(data[:,0]/max(data[:,0]),data[:,1]/max(data[:,1]),s=7)"
   ]
  },
  {
   "cell_type": "code",
   "execution_count": 25,
   "metadata": {},
   "outputs": [],
   "source": [
    "CodeWord=[]\n",
    "for i in range(len(Code)):\n",
    "    CodeWord.append(str(int(Code[i])))"
   ]
  },
  {
   "cell_type": "code",
   "execution_count": 26,
   "metadata": {},
   "outputs": [],
   "source": [
    "j=0\n",
    "CodeE=[]\n",
    "CodeO=[]\n",
    "Word=[]\n",
    "for i in range(len(CodeWord)):\n",
    "    if (j==0):\n",
    "        CodeE.append(CodeWord[i])\n",
    "        j=1\n",
    "    else:\n",
    "        CodeO.append(CodeWord[i])\n",
    "        j=0\n",
    "        \n",
    "for i in range(len(CodeE)):\n",
    "    Word.append(CodeE[i]+CodeO[i])"
   ]
  },
  {
   "cell_type": "code",
   "execution_count": 27,
   "metadata": {
    "scrolled": true
   },
   "outputs": [],
   "source": [
    "Org=['00','01','10','11']\n",
    "Cmap=[0,1,2,3]\n",
    "Map=zeros(len(Word))\n",
    "for i in range(len(Word)):\n",
    "    if(Word[i]==Org[0]):\n",
    "        Map[i]=Cmap[0]\n",
    "    if(Word[i]==Org[1]):\n",
    "        Map[i]=Cmap[1]\n",
    "    if(Word[i]==Org[2]):\n",
    "        Map[i]=Cmap[2]\n",
    "    if(Word[i]==Org[3]):\n",
    "        Map[i]=Cmap[3]"
   ]
  },
  {
   "cell_type": "code",
   "execution_count": 28,
   "metadata": {},
   "outputs": [
    {
     "data": {
      "text/plain": [
       "<matplotlib.colorbar.Colorbar at 0x25c83f19358>"
      ]
     },
     "execution_count": 28,
     "metadata": {},
     "output_type": "execute_result"
    },
    {
     "data": {
      "image/png": "[encoded data removed]",
      "text/plain": [
       "<matplotlib.figure.Figure at 0x25c83f18a58>"
      ]
     },
     "metadata": {},
     "output_type": "display_data"
    }
   ],
   "source": [
    "scatter(data[:,0]/max(data[:,0]),data[:,1]/max(data[:,1]),c=Map,s=1)\n",
    "grid(True)\n",
    "colorbar()"
   ]
  },
  {
   "cell_type": "code",
   "execution_count": 29,
   "metadata": {},
   "outputs": [],
   "source": [
    "DataSet=zeros((len(data),2))\n",
    "NormData(DataSet,data)"
   ]
  },
  {
   "cell_type": "code",
   "execution_count": 30,
   "metadata": {},
   "outputs": [],
   "source": [
    "X_train, X_test, y_train, y_test = train_test_split(DataSet, Map, test_size = 0.20)"
   ]
  },
  {
   "cell_type": "code",
   "execution_count": 31,
   "metadata": {},
   "outputs": [
    {
     "name": "stdout",
     "output_type": "stream",
     "text": [
      "# Tuning hyper-parameters for precision\n",
      "\n",
      "Best parameters set found on development set:\n",
      "\n",
      "{'C': 1, 'kernel': 'rbf', 'gamma': 0.001}\n",
      "\n",
      "Grid scores on development set:\n",
      "\n",
      "0.986 (+/-0.003) for {'C': 1, 'kernel': 'rbf', 'gamma': 0.001}\n",
      "0.555 (+/-0.375) for {'C': 1, 'kernel': 'rbf', 'gamma': 0.0001}\n",
      "0.986 (+/-0.003) for {'C': 10, 'kernel': 'rbf', 'gamma': 0.001}\n",
      "0.986 (+/-0.003) for {'C': 10, 'kernel': 'rbf', 'gamma': 0.0001}\n",
      "0.986 (+/-0.003) for {'C': 100, 'kernel': 'rbf', 'gamma': 0.001}\n",
      "0.986 (+/-0.003) for {'C': 100, 'kernel': 'rbf', 'gamma': 0.0001}\n",
      "0.986 (+/-0.003) for {'C': 1000, 'kernel': 'rbf', 'gamma': 0.001}\n",
      "0.986 (+/-0.003) for {'C': 1000, 'kernel': 'rbf', 'gamma': 0.0001}\n",
      "0.986 (+/-0.003) for {'C': 1, 'kernel': 'linear'}\n",
      "0.986 (+/-0.003) for {'C': 10, 'kernel': 'linear'}\n",
      "0.986 (+/-0.003) for {'C': 100, 'kernel': 'linear'}\n",
      "0.986 (+/-0.003) for {'C': 1000, 'kernel': 'linear'}\n",
      "\n",
      "Detailed classification report:\n",
      "\n",
      "The model is trained on the full development set.\n",
      "The scores are computed on the full evaluation set.\n",
      "\n",
      "             precision    recall  f1-score   support\n",
      "\n",
      "        0.0       0.98      0.98      0.98      1616\n",
      "        1.0       0.99      0.98      0.98      1653\n",
      "        2.0       0.98      0.98      0.98      1618\n",
      "        3.0       0.98      0.99      0.98      1667\n",
      "\n",
      "avg / total       0.98      0.98      0.98      6554\n",
      "\n",
      "\n",
      "# Tuning hyper-parameters for recall\n",
      "\n",
      "Best parameters set found on development set:\n",
      "\n",
      "{'C': 1, 'kernel': 'rbf', 'gamma': 0.001}\n",
      "\n",
      "Grid scores on development set:\n",
      "\n",
      "0.986 (+/-0.003) for {'C': 1, 'kernel': 'rbf', 'gamma': 0.001}\n",
      "0.504 (+/-0.007) for {'C': 1, 'kernel': 'rbf', 'gamma': 0.0001}\n",
      "0.986 (+/-0.003) for {'C': 10, 'kernel': 'rbf', 'gamma': 0.001}\n",
      "0.986 (+/-0.003) for {'C': 10, 'kernel': 'rbf', 'gamma': 0.0001}\n",
      "0.986 (+/-0.003) for {'C': 100, 'kernel': 'rbf', 'gamma': 0.001}\n",
      "0.986 (+/-0.003) for {'C': 100, 'kernel': 'rbf', 'gamma': 0.0001}\n",
      "0.986 (+/-0.003) for {'C': 1000, 'kernel': 'rbf', 'gamma': 0.001}\n",
      "0.986 (+/-0.003) for {'C': 1000, 'kernel': 'rbf', 'gamma': 0.0001}\n",
      "0.986 (+/-0.003) for {'C': 1, 'kernel': 'linear'}\n",
      "0.986 (+/-0.003) for {'C': 10, 'kernel': 'linear'}\n",
      "0.986 (+/-0.003) for {'C': 100, 'kernel': 'linear'}\n",
      "0.986 (+/-0.003) for {'C': 1000, 'kernel': 'linear'}\n",
      "\n",
      "Detailed classification report:\n",
      "\n",
      "The model is trained on the full development set.\n",
      "The scores are computed on the full evaluation set.\n",
      "\n",
      "             precision    recall  f1-score   support\n",
      "\n",
      "        0.0       0.98      0.98      0.98      1616\n",
      "        1.0       0.99      0.98      0.98      1653\n",
      "        2.0       0.98      0.98      0.98      1618\n",
      "        3.0       0.98      0.99      0.98      1667\n",
      "\n",
      "avg / total       0.98      0.98      0.98      6554\n",
      "\n",
      "\n"
     ]
    }
   ],
   "source": [
    "#### Set the parameters by cross-validation\n",
    "tuned_parameters = [{'kernel': ['rbf'], 'gamma': [1e-3, 1e-4],\n",
    "                     'C': [1, 10, 100, 1000]},\n",
    "                    {'kernel': ['linear'], 'C': [1, 10, 100, 1000]}]\n",
    "\n",
    "\n",
    "scores = ['precision', 'recall']\n",
    "\n",
    "for score in scores:\n",
    "    print(\"# Tuning hyper-parameters for %s\" % score)\n",
    "    print()\n",
    "\n",
    "    clf = GridSearchCV(SVC(), tuned_parameters, cv=5,\n",
    "                       scoring='%s_macro' % score, n_jobs=-1, error_score=0)\n",
    "    clf.fit(X_train, y_train)\n",
    "\n",
    "    print(\"Best parameters set found on development set:\")\n",
    "    print()\n",
    "    print(clf.best_params_)\n",
    "    print()\n",
    "    print(\"Grid scores on development set:\")\n",
    "    print()\n",
    "    means = clf.cv_results_['mean_test_score']\n",
    "    stds = clf.cv_results_['std_test_score']\n",
    "    for mean, std, params in zip(means, stds, clf.cv_results_['params']):\n",
    "        print(\"%0.3f (+/-%0.03f) for %r\"\n",
    "              % (mean, std * 2, params))\n",
    "    print()\n",
    "\n",
    "    print(\"Detailed classification report:\")\n",
    "    print()\n",
    "    print(\"The model is trained on the full development set.\")\n",
    "    print(\"The scores are computed on the full evaluation set.\")\n",
    "    print()\n",
    "    y_true, y_pred = y_test, clf.predict(X_test)\n",
    "    print(classification_report(y_true, y_pred))\n",
    "    print()\n",
    "\n",
    "# Note the problem is too easy: the hyperparameter plateau is too flat and the\n",
    "# output model is the same for precision and recall with ties in quality."
   ]
  },
  {
   "cell_type": "code",
   "execution_count": 35,
   "metadata": {
    "scrolled": true
   },
   "outputs": [
    {
     "data": {
      "text/plain": [
       "SVC(C=1, cache_size=200, class_weight=None, coef0=0.0,\n",
       "  decision_function_shape='ovr', degree=3, gamma=0.001, kernel='rbf',\n",
       "  max_iter=-1, probability=False, random_state=None, shrinking=True,\n",
       "  tol=0.001, verbose=False)"
      ]
     },
     "execution_count": 35,
     "metadata": {},
     "output_type": "execute_result"
    }
   ],
   "source": [
    "svclassifier = SVC(kernel='rbf',C=1,gamma=0.001)\n",
    "svclassifier.fit(X_train, y_train)"
   ]
  },
  {
   "cell_type": "code",
   "execution_count": 36,
   "metadata": {},
   "outputs": [],
   "source": [
    "y_pred = svclassifier.predict(X_test)"
   ]
  },
  {
   "cell_type": "code",
   "execution_count": 38,
   "metadata": {},
   "outputs": [
    {
     "name": "stdout",
     "output_type": "stream",
     "text": [
      "[[1587   13   16    0]\n",
      " [  13 1623    0   17]\n",
      " [  13    0 1592   13]\n",
      " [   0    9   12 1646]]\n",
      "             precision    recall  f1-score   support\n",
      "\n",
      "        0.0       0.98      0.98      0.98      1616\n",
      "        1.0       0.99      0.98      0.98      1653\n",
      "        2.0       0.98      0.98      0.98      1618\n",
      "        3.0       0.98      0.99      0.98      1667\n",
      "\n",
      "avg / total       0.98      0.98      0.98      6554\n",
      "\n"
     ]
    }
   ],
   "source": [
    "from sklearn.metrics import classification_report, confusion_matrix\n",
    "print(confusion_matrix(y_test,y_pred))\n",
    "print(classification_report(y_test,y_pred))"
   ]
  },
  {
   "cell_type": "code",
   "execution_count": 39,
   "metadata": {},
   "outputs": [
    {
     "data": {
      "text/plain": [
       "0.016173329264571254"
      ]
     },
     "execution_count": 39,
     "metadata": {},
     "output_type": "execute_result"
    }
   ],
   "source": [
    "BER(y_test,y_pred)"
   ]
  },
  {
   "cell_type": "code",
   "execution_count": null,
   "metadata": {
    "collapsed": true,
    "jupyter": {
     "outputs_hidden": true
    }
   },
   "outputs": [],
   "source": []
  }
 ],
 "metadata": {
  "kernelspec": {
   "display_name": "Python 3",
   "language": "python",
   "name": "python3"
  },
  "language_info": {
   "codemirror_mode": {
    "name": "ipython",
    "version": 3
   },
   "file_extension": ".py",
   "mimetype": "text/x-python",
   "name": "python",
   "nbconvert_exporter": "python",
   "pygments_lexer": "ipython3",
   "version": "3.5.4"
  }
 },
 "nbformat": 4,
 "nbformat_minor": 4
}
